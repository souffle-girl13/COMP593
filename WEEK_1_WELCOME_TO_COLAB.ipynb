{
  "nbformat": 4,
  "nbformat_minor": 0,
  "metadata": {
    "colab": {
      "name": "WEEK 1 WELCOME TO COLAB",
      "provenance": [],
      "collapsed_sections": [],
      "toc_visible": true,
      "include_colab_link": true
    },
    "kernelspec": {
      "display_name": "Python 3",
      "name": "python3"
    }
  },
  "cells": [
    {
      "cell_type": "markdown",
      "metadata": {
        "id": "view-in-github",
        "colab_type": "text"
      },
      "source": [
        "<a href=\"https://colab.research.google.com/github/souffle-girl13/COMP593/blob/Lab-1/WEEK_1_WELCOME_TO_COLAB.ipynb\" target=\"_parent\"><img src=\"https://colab.research.google.com/assets/colab-badge.svg\" alt=\"Open In Colab\"/></a>"
      ]
    },
    {
      "cell_type": "markdown",
      "metadata": {
        "id": "GJBs_flRovLc"
      },
      "source": [
        "## **Welcome to COMP 593!**\n",
        "\n",
        "For your first lab, we will experiment with running a script, and saving our project to our personal github repositories:"
      ]
    },
    {
      "cell_type": "markdown",
      "metadata": {
        "id": "xn279PBwVnDj"
      },
      "source": [
        "##Installing Dependancies##\r\n",
        "\r\n",
        "Dependancies are routines, Objects, and methods that a project requires. We add Dependancies to our project in the form of **Libraries** when we want to unlock functionality that already exists, this could be as simple as file IO or as complex as fully fledged Machine Learning libraries. Libraries can be added to our project manually, by downloading them and placing them in our runtime enviornment, or using a **Package Manager** such as PIP."
      ]
    },
    {
      "cell_type": "markdown",
      "metadata": {
        "id": "-IWb3REjW5T0"
      },
      "source": [
        "Run the below code to download the **pyfiglet** library, which we will use to generate some ASCII art."
      ]
    },
    {
      "cell_type": "code",
      "metadata": {
        "id": "ARUZhh6MS7nA",
        "colab": {
          "base_uri": "https://localhost:8080/"
        },
        "outputId": "beb3d0f6-13a3-42d4-b88f-29ccae4a22d9"
      },
      "source": [
        "pip install pyfiglet\r\n"
      ],
      "execution_count": 2,
      "outputs": [
        {
          "output_type": "stream",
          "text": [
            "Collecting pyfiglet\n",
            "\u001b[?25l  Downloading https://files.pythonhosted.org/packages/33/07/fcfdd7a2872f5b348953de35acce1544dab0c1e8368dca54279b1cde5c15/pyfiglet-0.8.post1-py2.py3-none-any.whl (865kB)\n",
            "\u001b[K     |████████████████████████████████| 870kB 7.6MB/s \n",
            "\u001b[?25hInstalling collected packages: pyfiglet\n",
            "Successfully installed pyfiglet-0.8.post1\n"
          ],
          "name": "stdout"
        }
      ]
    },
    {
      "cell_type": "markdown",
      "metadata": {
        "id": "SNXKhb5XXqF4"
      },
      "source": [
        "There are *hundreds of thousands* of python libraries at your disposal. Some may suit your needs better than others depending on the goals of your scripts or applications. The [PyPi Repository](https://https://pypi.org/) contains a serchable database of packages that are installable via the pip package manager.\r\n",
        "\r\n",
        "Run the code below to get an idea of the number of packages that are included for your user within Colab. You don't need to know what all of these do, but it should indicate that python is a very powerful language."
      ]
    },
    {
      "cell_type": "code",
      "metadata": {
        "id": "C7A8viiJXiDs"
      },
      "source": [
        "pip list"
      ],
      "execution_count": null,
      "outputs": []
    },
    {
      "cell_type": "markdown",
      "metadata": {
        "id": "zopYZ3PcY6hR"
      },
      "source": [
        "If you would like to see if pyfiglet was installed, you could scan the list above, or you could **pipe** the output of `pip list` to a console command known as `grep` that will filter for specific strings. This is an example of **redirecting output,** which you have learned about already.\r\n",
        "\r\n",
        "\r\n"
      ]
    },
    {
      "cell_type": "code",
      "metadata": {
        "id": "oAMcMjbLZMIE"
      },
      "source": [
        "pip list | grep pyfiglet "
      ],
      "execution_count": null,
      "outputs": []
    },
    {
      "cell_type": "markdown",
      "metadata": {
        "id": "gt5dp771Yc2c"
      },
      "source": [
        "# Writing Our Script"
      ]
    },
    {
      "cell_type": "markdown",
      "metadata": {
        "id": "Hh36394HaB3g"
      },
      "source": [
        "The intention of this Colab introduction is to get you familiar with using google Colab to accomplish scripting goals. Today, we will be using the `pyfiglet` library we have just installed to output some text. To understand the methods available to us in `pyfiglet` we can look up [the github repository.](https://github.com/pwaller/pyfiglet)\r\n",
        "\r\n",
        "***Remember: Since open source packages are at the mercy of their developers or maintainers, comprehensive documentation is never a guarantee.***\r\n",
        "\r\n",
        "The help documentation outlines a command line `--help` argument, which means that documentation exists. We can't call command line arguments for imported libraries in colab, but we *can* accomplish the same goal in colab by using the python `help([Object])` function."
      ]
    },
    {
      "cell_type": "code",
      "metadata": {
        "id": "zR6mZpfkgRxd"
      },
      "source": [
        "from pyfiglet import Figlet\r\n",
        "\r\n",
        "help(Figlet)"
      ],
      "execution_count": null,
      "outputs": []
    },
    {
      "cell_type": "markdown",
      "metadata": {
        "id": "UxKlfQJrmq4N"
      },
      "source": [
        "Using this function we can see that the `Figlet` object has several methods available. This will bring us to your task:\r\n",
        "\r\n",
        "\r\n",
        "**In the editor below, finish a script that accomplishes the following goals:**\r\n",
        "\r\n",
        "1.   Prompt the user to select from a list of 5 fonts.\r\n",
        "2.   Prompt the user to input the string they would like output in that font.\r\n",
        "3.   Render the text using the selected font.\r\n",
        "\r\n",
        "*Hint:* Call the `getFonts()` method to get a list of the available fonts."
      ]
    },
    {
      "cell_type": "code",
      "metadata": {
        "id": "b2y8sufRoEpR",
        "colab": {
          "base_uri": "https://localhost:8080/"
        },
        "outputId": "06e326ac-5ded-421a-c221-8211f824b0ba"
      },
      "source": [
        "from pyfiglet import Figlet\r\n",
        "\r\n",
        "#Instantiate a Figlet Object\r\n",
        "figlet = Figlet()\r\n",
        "\r\n",
        "#Prompt the user to select a font\r\n",
        "selectedFont = input(\"Select a font: \\n 1. alligator \\n 2. bubble \\n 3. catwalk \\n 4. doom \\n >>> \")\r\n",
        "\r\n",
        "#Prompt the user to type a message\r\n",
        "userMessage = input(\"Enter the message you wish to print out: \")\r\n",
        "\r\n",
        "#Changes the output font to the one the user has selected\r\n",
        "selectedFont = Figlet(font=selectedFont)\r\n",
        "convertedMessage = selectedFont.renderText(userMessage)\r\n",
        "\r\n",
        "#Outputs user's message in the selected font\r\n",
        "print(convertedMessage)"
      ],
      "execution_count": 3,
      "outputs": [
        {
          "output_type": "stream",
          "text": [
            "Select a font: \n",
            " 1. alligator \n",
            " 2. bubble \n",
            " 3. catwalk \n",
            " 4. doom \n",
            " >>> doom\n",
            "Enter the message you wish to print out: Hello World\n",
            " _   _      _ _         _    _            _     _ \n",
            "| | | |    | | |       | |  | |          | |   | |\n",
            "| |_| | ___| | | ___   | |  | | ___  _ __| | __| |\n",
            "|  _  |/ _ \\ | |/ _ \\  | |/\\| |/ _ \\| '__| |/ _` |\n",
            "| | | |  __/ | | (_) | \\  /\\  / (_) | |  | | (_| |\n",
            "\\_| |_/\\___|_|_|\\___/   \\/  \\/ \\___/|_|  |_|\\__,_|\n",
            "                                                  \n",
            "                                                  \n",
            "\n"
          ],
          "name": "stdout"
        }
      ]
    },
    {
      "cell_type": "markdown",
      "metadata": {
        "id": "wXiyORkQqUfz"
      },
      "source": [
        "# Submitting your Script"
      ]
    },
    {
      "cell_type": "markdown",
      "metadata": {
        "id": "eUMXNhytqZY6"
      },
      "source": [
        "Once you have succesfully completed your script, make sure to save it to your github account. (Take a look [at the official colab instructions](https://colab.research.google.com/github/googlecolab/colabtools/blob/master/notebooks/colab-github-demo.ipynb) if you need a refresher.)"
      ]
    }
  ]
}