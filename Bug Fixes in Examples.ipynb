{
  "nbformat": 4,
  "nbformat_minor": 0,
  "metadata": {
    "colab": {
      "name": "WEEK 3 WORKING WITH DATABASES",
      "provenance": [],
      "include_colab_link": true
    },
    "kernelspec": {
      "display_name": "Python 3",
      "name": "python3"
    }
  },
  "cells": [
    {
      "cell_type": "markdown",
      "metadata": {
        "id": "view-in-github",
        "colab_type": "text"
      },
      "source": [
        "<a href=\"https://colab.research.google.com/github/souffle-girl13/COMP593/blob/Lab-3/Bug%20Fixes%20in%20Examples.ipynb\" target=\"_parent\"><img src=\"https://colab.research.google.com/assets/colab-badge.svg\" alt=\"Open In Colab\"/></a>"
      ]
    },
    {
      "cell_type": "markdown",
      "metadata": {
        "id": "ATrLBWinTKCJ"
      },
      "source": [
        "# LAB 3: WORKING WITH DATABASES\r\n"
      ]
    },
    {
      "cell_type": "markdown",
      "metadata": {
        "id": "bH4FqkVLTWRU"
      },
      "source": [
        "## Introduction\r\n",
        "\r\n",
        "During this lab, we will experiment with using a few different libararies and modules to connect to and interact with an SQLite database. After creating and configuring our testing database, we will populate it with Fake data and run some queries to see what kind of information we can retreive. For context, we will be creating RSSN, the \"Really Simple Social Network\"."
      ]
    },
    {
      "cell_type": "markdown",
      "metadata": {
        "id": "YtugCh8QUPoi"
      },
      "source": [
        "## Creating a SQLite Database\r\n",
        "\r\n",
        "We will be utilizing the `sqlite3` library to create our database file, as it offers the convienience of creating our database file automatically in the event that it cannot find an existing file at the path specified.\r\n",
        "\r\n",
        "**Before you run the below code:**\r\n",
        "On the left of the notebook, select the file folder icon. Then, after you run the code block, you should be able to observe the creation of the database file. If it doesn't appear, try clicking the \"Refresh\" button above the list of folders."
      ]
    },
    {
      "cell_type": "code",
      "metadata": {
        "id": "pzyTkI5PPjib",
        "outputId": "816e1f17-8496-4fee-e58c-ebff9506535d",
        "colab": {
          "base_uri": "https://localhost:8080/"
        }
      },
      "source": [
        "import sqlite3\r\n",
        "\r\n",
        "#When we retreive a Connection object, a new database will be created for us if it doesn't already exist. \r\n",
        "myConnection = sqlite3.connect('social_network.db')\r\n",
        "print(sqlite3.version)"
      ],
      "execution_count": 3,
      "outputs": [
        {
          "output_type": "stream",
          "text": [
            "2.6.0\n"
          ],
          "name": "stdout"
        }
      ]
    },
    {
      "cell_type": "markdown",
      "metadata": {
        "id": "gRxXXt8iVmAp"
      },
      "source": [
        "## Creating a Table\r\n"
      ]
    },
    {
      "cell_type": "markdown",
      "metadata": {
        "id": "plmEQRdNaDMe"
      },
      "source": [
        "We'll use the below code to create a table called `people` within our database. "
      ]
    },
    {
      "cell_type": "code",
      "metadata": {
        "colab": {
          "base_uri": "https://localhost:8080/"
        },
        "id": "uyjSS3cQVwFa",
        "outputId": "98058dd2-58b1-4d7e-eae2-c20b691b0464"
      },
      "source": [
        "import sqlite3\r\n",
        "\r\n",
        "#Retreive the Connection object\r\n",
        "myConnection = sqlite3.connect('social_network.db')\r\n",
        "\r\n",
        "#Once we have a Connection object, we can generate a Cursor object, and use that to run our SQL Queries\r\n",
        "myCursor = myConnection.cursor()\r\n",
        "\r\n",
        "#Let's define the SQL Query we will use to create our first table:\r\n",
        "createPeopleTable = \"\"\" CREATE TABLE IF NOT EXISTS people (\r\n",
        "                          id integer PRIMARY KEY,\r\n",
        "                          name text NOT NULL,\r\n",
        "                          email text NOT NULL,\r\n",
        "                          address text NOT NULL,\r\n",
        "                          city text NOT NULL,\r\n",
        "                          province text NOT NULL,\r\n",
        "                          country text NOT NULL,\r\n",
        "                          phone text,\r\n",
        "                          bio text,\r\n",
        "                          dob date NOT NULL,\r\n",
        "                          heatmap integer,\r\n",
        "                          created_at datetime NOT NULL,\r\n",
        "                          updated_at datetime NOT NULL,\r\n",
        "                          ipv4 text\r\n",
        "                        );\"\"\"\r\n",
        "\r\n",
        "#Now that we have the string to create our table,\r\n",
        "#Cursor objects have an execute() method which will accept an SQL string and perform the operations described.\r\n",
        "\r\n",
        "myCursor.execute(createPeopleTable)\r\n",
        "\r\n",
        "#We can confirm if our table was created successfully by running the following SQL Query\r\n",
        "#pragma_table_info is an internal SQLite function that will retun information about a table\r\n",
        "myCursor.execute(\"SELECT group_concat(name, ', ') FROM pragma_table_info('people')\")\r\n",
        "print(myCursor.fetchone())\r\n",
        "\r\n",
        "#We use to the commit() method on the database Connection object to persist our changes\r\n",
        "myConnection.commit()\r\n",
        "\r\n",
        "#It is always a good idea to close a connection when it will no longer be used\r\n",
        "myConnection.close()\r\n"
      ],
      "execution_count": 4,
      "outputs": [
        {
          "output_type": "stream",
          "text": [
            "('id, name, email, address, city, province, country, phone, bio, dob, heatmap, created_at, updated_at, ipv4',)\n"
          ],
          "name": "stdout"
        }
      ]
    },
    {
      "cell_type": "markdown",
      "metadata": {
        "id": "5swGTtjga2qo"
      },
      "source": [
        "\r\n",
        "If you received a tuple containing the names of the columns, awesome! We have successfully created our database table.\r\n",
        "```\r\n",
        "('id, name, email, address, city, province, country, phone, bio, created_at, updated_at',)\r\n",
        "```\r\n",
        "\r\n",
        "Run the below code block to add our first entry."
      ]
    },
    {
      "cell_type": "code",
      "metadata": {
        "id": "ZSPqve9na7b8",
        "outputId": "6f6b1d02-72ad-4907-e341-83260959a5d6",
        "colab": {
          "base_uri": "https://localhost:8080/"
        }
      },
      "source": [
        "import sqlite3\r\n",
        "from pprint import pprint #Outputs data in a slightly easier to read format.\r\n",
        "from datetime import datetime #For generating dates and times\r\n",
        "\r\n",
        "#Retreive the Connection object\r\n",
        "myConnection = sqlite3.connect('social_network.db')\r\n",
        "\r\n",
        "#Once we have a Connection object, we can generate a Cursor object, and use that to run our SQL Queries\r\n",
        "myCursor = myConnection.cursor()\r\n",
        "\r\n",
        "#Let's define the SQL Query we will use to create our first entry:\r\n",
        "addPersonQuery = \"\"\"INSERT INTO people (name, \r\n",
        "                      email, \r\n",
        "                      address, \r\n",
        "                      city, \r\n",
        "                      province, \r\n",
        "                      country, \r\n",
        "                      phone, \r\n",
        "                      bio,\r\n",
        "                      dob,\r\n",
        "                      heatmap,\r\n",
        "                      created_at, \r\n",
        "                      updated_at, \r\n",
        "                      ipv4)\r\n",
        "                  VALUES (?, ?, ?, ?, ?, ?, ?, ?, ?, ?, ?, ?, ?);\"\"\"\r\n",
        "\r\n",
        "\"\"\"\r\n",
        "The ?'s are placeholders that we can fill in when we use the execute() method.\r\n",
        "This is really handy for code reuse, as we can pass those values are variables in a tuple\r\n",
        "Instead of hard coding them into the statement.\r\n",
        "\"\"\"\r\n",
        "\r\n",
        "myPerson = (\"John Doe\", \r\n",
        "            \"johndoe@anon.null\", \r\n",
        "            \"123 Fake St.\", \r\n",
        "            \"Fakesville\", \r\n",
        "            \"Fakesdom\", \r\n",
        "            \"Fakopolis\", \r\n",
        "            None, \r\n",
        "            None,\r\n",
        "            \"1967-09-12\",\r\n",
        "            0,\r\n",
        "            datetime.now(), \r\n",
        "            datetime.now(),\r\n",
        "            None)\r\n",
        "\r\n",
        "myCursor.execute(addPersonQuery, myPerson)\r\n",
        "\r\n",
        "#We can confirm if our table was created successfully by running the following SQL Query\r\n",
        "#pragma_table_info is an internal SQLite function that will retun information about a table\r\n",
        "myCursor.execute(\"SELECT * FROM people\")\r\n",
        "pprint(myCursor.fetchall())\r\n",
        "\r\n",
        "# If you run this code block a few times, you will see that you only have 1 entry,\r\n",
        "# If you uncomment the below lines and run the block a few more times, you will begin to see multiple entries.\r\n",
        "myConnection.commit()\r\n",
        "myConnection.close()"
      ],
      "execution_count": 8,
      "outputs": [
        {
          "output_type": "stream",
          "text": [
            "[(1,\n",
            "  'John Doe',\n",
            "  'johndoe@anon.null',\n",
            "  '123 Fake St.',\n",
            "  'Fakesville',\n",
            "  'Fakesdom',\n",
            "  'Fakopolis',\n",
            "  None,\n",
            "  None,\n",
            "  '1967-09-12',\n",
            "  0,\n",
            "  '2021-02-10 18:05:12.513821',\n",
            "  '2021-02-10 18:05:12.513831',\n",
            "  None),\n",
            " (2,\n",
            "  'John Doe',\n",
            "  'johndoe@anon.null',\n",
            "  '123 Fake St.',\n",
            "  'Fakesville',\n",
            "  'Fakesdom',\n",
            "  'Fakopolis',\n",
            "  None,\n",
            "  None,\n",
            "  '1967-09-12',\n",
            "  0,\n",
            "  '2021-02-10 18:05:15.889768',\n",
            "  '2021-02-10 18:05:15.889774',\n",
            "  None)]\n"
          ],
          "name": "stdout"
        }
      ]
    },
    {
      "cell_type": "code",
      "metadata": {
        "id": "blL9pzRCgrMP"
      },
      "source": [
        ""
      ],
      "execution_count": null,
      "outputs": []
    },
    {
      "cell_type": "markdown",
      "metadata": {
        "id": "BTZ00Zscgrus"
      },
      "source": [
        "# Lab Submission"
      ]
    },
    {
      "cell_type": "markdown",
      "metadata": {
        "id": "rN93XC6xgvwP"
      },
      "source": [
        "We're going to build our experience with working with Libraries and examining documentation by populating our 'People' table with data provided to us by the `Faker` library. `Faker` is used to generate fake data and is very helpful for the rapid generation of databases for the purposes of testing. Run the two blocks below to install faker and get an idea of what it can do."
      ]
    },
    {
      "cell_type": "code",
      "metadata": {
        "id": "CejUXkoRhPik",
        "outputId": "3e199408-3b43-495a-c4cb-4f6a653d3c80",
        "colab": {
          "base_uri": "https://localhost:8080/"
        }
      },
      "source": [
        "!pip install faker"
      ],
      "execution_count": 9,
      "outputs": [
        {
          "output_type": "stream",
          "text": [
            "Collecting faker\n",
            "\u001b[?25l  Downloading https://files.pythonhosted.org/packages/4e/6a/591bea01ef396a4611b2097af19aa86975ebef06a4bb571a8a25ba36cf9a/Faker-6.1.1-py3-none-any.whl (1.1MB)\n",
            "\u001b[K     |████████████████████████████████| 1.1MB 5.2MB/s \n",
            "\u001b[?25hRequirement already satisfied: python-dateutil>=2.4 in /usr/local/lib/python3.6/dist-packages (from faker) (2.8.1)\n",
            "Requirement already satisfied: text-unidecode==1.3 in /usr/local/lib/python3.6/dist-packages (from faker) (1.3)\n",
            "Requirement already satisfied: six>=1.5 in /usr/local/lib/python3.6/dist-packages (from python-dateutil>=2.4->faker) (1.15.0)\n",
            "Installing collected packages: faker\n",
            "Successfully installed faker-6.1.1\n"
          ],
          "name": "stdout"
        }
      ]
    },
    {
      "cell_type": "code",
      "metadata": {
        "id": "vO2Uhcwrhw8-",
        "outputId": "732ab1a8-11ac-4321-861b-e77c94fb4a9e",
        "colab": {
          "base_uri": "https://localhost:8080/"
        }
      },
      "source": [
        "from faker import Faker\r\n",
        "\r\n",
        "fake = Faker()\r\n",
        "\r\n",
        "for _ in range(10):\r\n",
        "  print('{} || {}'.format( fake.name(), fake.job() ) )"
      ],
      "execution_count": 11,
      "outputs": [
        {
          "output_type": "stream",
          "text": [
            "Thomas Rocha || Magazine features editor\n",
            "Jacob Barr || Financial adviser\n",
            "Tara Brown || Software engineer\n",
            "Willie Quinn || Technical sales engineer\n",
            "Amanda Roberts || Community development worker\n",
            "Jeffery Ortega || Personal assistant\n",
            "Tanya Shaw || Industrial buyer\n",
            "Todd Guerra || Health and safety inspector\n",
            "Lance Morales || Customer service manager\n",
            "Holly Valdez || Commissioning editor\n"
          ],
          "name": "stdout"
        }
      ]
    },
    {
      "cell_type": "markdown",
      "metadata": {
        "id": "IsYIsSvRjmiG"
      },
      "source": [
        "Very cool! Faker has tons of `providers` that can all be used to populate fake data. The [list of providers](https://faker.readthedocs.io/en/stable/providers.html) in the Faker documentation will help you fill out the columns for our People table.\r\n",
        "\r\n",
        "The goal of this script is to populate the people table with 1000 entries, with the following constraints:\r\n",
        "\r\n",
        "1. The `heatmap` column must contain a random number between `999` and `2500`\r\n",
        "2. The `created_at` and `updated_at` columns must use the `datetime` object (see examples above) \r\n",
        "2. Use `Faker` to generate all other fields.\r\n",
        "\r\n",
        "*Hint: Each of the methods contained in the provider can be called directly from the base Faker object, for example, one can call the `file_name()` method from `faker.providers.file` by calling `Faker().file_name()`*"
      ]
    },
    {
      "cell_type": "code",
      "metadata": {
        "id": "Yi-fE0uUlor4"
      },
      "source": [
        "import sqlite3\r\n",
        "from faker import Faker\r\n",
        "from datetime import datetime #For generating dates and times\r\n",
        "#Don't forget to import the module to generate random numbers!\r\n",
        "\r\n",
        "#Retreive the Connection object\r\n",
        "myConnection = sqlite3.connect('social_network.db')\r\n",
        "\r\n",
        "#Once we have a Connection object, we can generate a Cursor object, and use that to run our SQL Queries\r\n",
        "myCursor = myConnection.cursor()\r\n",
        "\r\n",
        "#This is the same syntax as the above example:\r\n",
        "addPersonQuery = \"\"\"INSERT INTO people (name, \r\n",
        "                      email, \r\n",
        "                      address, \r\n",
        "                      city, \r\n",
        "                      province, \r\n",
        "                      country, \r\n",
        "                      phone, \r\n",
        "                      bio,\r\n",
        "                      dob,\r\n",
        "                      heatmap,\r\n",
        "                      created_at, \r\n",
        "                      updated_at, \r\n",
        "                      ipv4)\r\n",
        "                  VALUES (?, ?, ?, ?, ?, ?, ?, ?, ?, ?, ?, ?);\"\"\"\r\n",
        "\r\n",
        "fake = Faker()\r\n",
        "\r\n",
        "#Ideally, you will want to create a loop that will iterate 1000 times,\r\n",
        "#Observe the example in the earlier code block showing the parameter tuple `myPerson`\r\n",
        "#You can duplicate that inside your loop and replace those fields with calls to the appropriate faker provider method\r\n",
        "#Execute your statement inside the loop,\r\n",
        "#But, don't forget to commit and close your connection when you have finished!"
      ],
      "execution_count": null,
      "outputs": []
    },
    {
      "cell_type": "markdown",
      "metadata": {
        "id": "mVEgfYArnITl"
      },
      "source": [
        "Finally, the last step,\r\n",
        "Using the code block below, combined with what you have learned above, and the Lecture notes,\r\n",
        "Craft a SQL Query that will return the `name` of no more than `20` `people` with a `heatmap` greater than `1500`"
      ]
    },
    {
      "cell_type": "code",
      "metadata": {
        "id": "oN6wSS9roOP6"
      },
      "source": [
        "import sqlite3\r\n",
        "import pprint\r\n",
        "#Retreive the Connection object\r\n",
        "myConnection = sqlite3.connect('social_network.db')\r\n",
        "\r\n",
        "#Once we have a Connection object, we can generate a Cursor object, and use that to run our SQL Queries\r\n",
        "myCursor = myConnection.cursor()\r\n",
        "\r\n",
        "selectStatement = \"\"\"SELECT ... \"\"\"\r\n",
        "\r\n",
        "#myCursor.execute( ... )\r\n",
        "#results = myCursor.fetchall()\r\n",
        "#pprint(results)"
      ],
      "execution_count": null,
      "outputs": []
    },
    {
      "cell_type": "markdown",
      "metadata": {
        "id": "qwNrP7FfpJg2"
      },
      "source": [
        "Your submission will contain, as usual, a link to your completed colab notebook, but in addition to that, you will download a copy of your social_network.db file and upload it to D2L. To download the file, right click it from the Files menu on the left of the Notebook."
      ]
    }
  ]
}