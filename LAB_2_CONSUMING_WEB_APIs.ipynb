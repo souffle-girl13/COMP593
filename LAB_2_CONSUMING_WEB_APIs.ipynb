{
  "nbformat": 4,
  "nbformat_minor": 0,
  "metadata": {
    "colab": {
      "name": "LAB 2: CONSUMING WEB APIs",
      "provenance": [],
      "toc_visible": true,
      "include_colab_link": true
    },
    "kernelspec": {
      "name": "python3",
      "display_name": "Python 3"
    }
  },
  "cells": [
    {
      "cell_type": "markdown",
      "metadata": {
        "id": "view-in-github",
        "colab_type": "text"
      },
      "source": [
        "<a href=\"https://colab.research.google.com/github/souffle-girl13/COMP593/blob/Lab-2/LAB_2_CONSUMING_WEB_APIs.ipynb\" target=\"_parent\"><img src=\"https://colab.research.google.com/assets/colab-badge.svg\" alt=\"Open In Colab\"/></a>"
      ]
    },
    {
      "cell_type": "markdown",
      "metadata": {
        "id": "EoKZy-QeYU0_"
      },
      "source": [
        "#LAB 2: CONSUMING WEB APIs"
      ]
    },
    {
      "cell_type": "markdown",
      "metadata": {
        "id": "ayyh7BuRYfJo"
      },
      "source": [
        "## Making Network Requests\r\n",
        "To experiment with consuming web APIs, we are going to use a python Library that will allow us to make HTTP requests. There are several options out there, some are more popular than others. The standard choice would be the [requests](https://2.python-requests.org/en/master/) library, but for the purposes of educating you on the finer points of HTTP Messages, we will be utilizing the [http.client](https://docs.python.org/3/library/http.client.html) library."
      ]
    },
    {
      "cell_type": "markdown",
      "metadata": {
        "id": "VkspyplEZ4sR"
      },
      "source": [
        "As we have learned, the first step to utilizing a library is to  import it into our python script. We will import the `client` object from the `http` module."
      ]
    },
    {
      "cell_type": "code",
      "metadata": {
        "id": "UWFC3bYoYRlx"
      },
      "source": [
        "from http import client"
      ],
      "execution_count": 2,
      "outputs": []
    },
    {
      "cell_type": "markdown",
      "metadata": {
        "id": "FJsZPjpqaMnm"
      },
      "source": [
        "Next, we will attempt to create a connection to a host. For the purposes of this demonstration, we will connect to a Fake JSON Api provided to us by [typicode.](https://github.com/typicode)\r\n",
        "So, let's start by reviewing the [http.client documentation](https://docs.python.org/3/library/http.client.html) and creating a connection object."
      ]
    },
    {
      "cell_type": "code",
      "metadata": {
        "id": "vuasc-tmbAV-",
        "outputId": "d69ce0d8-438a-49b3-ce3a-c9408fbcbbaa",
        "colab": {
          "base_uri": "https://localhost:8080/"
        }
      },
      "source": [
        "from http import client\r\n",
        "\r\n",
        "# Per the documentation, we get a connection object by calling the HTTPConnection() or HTTPSConnection() methods,\r\n",
        "# with parameters for the address and port.\r\n",
        "cxn = client.HTTPSConnection('jsonplaceholder.typicode.com', 443)\r\n",
        "\r\n",
        "# Let's test our connection by making a HEAD request, validating the HTTP status code, and printing the response headers.\r\n",
        "cxn.request('HEAD', '/')\r\n",
        "\r\n",
        "response = cxn.getresponse()\r\n",
        "\r\n",
        "if response.status is 200:\r\n",
        "  print('Response:',response.status, '🎉🎉🎉', '\\n')\r\n",
        "else:\r\n",
        "  print('Uh Oh, got',response.status)\r\n",
        "\r\n",
        "print(response.headers)"
      ],
      "execution_count": 3,
      "outputs": [
        {
          "output_type": "stream",
          "text": [
            "Response: 200 🎉🎉🎉 \n",
            "\n",
            "Date: Sun, 07 Feb 2021 18:48:11 GMT\n",
            "Content-Type: text/html; charset=UTF-8\n",
            "Connection: keep-alive\n",
            "Set-Cookie: __cfduid=db7391990cb3bef87499940651fec4ae61612723691; expires=Tue, 09-Mar-21 18:48:11 GMT; path=/; domain=.typicode.com; HttpOnly; SameSite=Lax\n",
            "X-Powered-By: Express\n",
            "X-Ratelimit-Limit: 1000\n",
            "X-Ratelimit-Remaining: 999\n",
            "X-Ratelimit-Reset: 1612684448\n",
            "Vary: Origin, Accept-Encoding\n",
            "Access-Control-Allow-Credentials: true\n",
            "Cache-Control: public, max-age=43200\n",
            "Last-Modified: Sun, 07 Feb 2021 07:04:55 GMT\n",
            "Via: 1.1 vegur\n",
            "CF-Cache-Status: HIT\n",
            "Age: 5397\n",
            "cf-request-id: 081f6bb8150000181b999b5000000001\n",
            "Expect-CT: max-age=604800, report-uri=\"https://report-uri.cloudflare.com/cdn-cgi/beacon/expect-ct\"\n",
            "Report-To: {\"group\":\"cf-nel\",\"endpoints\":[{\"url\":\"https:\\/\\/a.nel.cloudflare.com\\/report?s=2nvGINFPnxf0a6XHVwOAVkVuShrBOqDFH4HOg0OAzHLGm6mP0eASFJgbISl7gzFChmTaQPzi2vkRNv2mRQd%2BY%2Bx2k%2B3iZOe0NVxOo0hfIvId0iKvpVjw9wvIUuqt\"}],\"max_age\":604800}\n",
            "NEL: {\"max_age\":604800,\"report_to\":\"cf-nel\"}\n",
            "Server: cloudflare\n",
            "CF-RAY: 61df48a02daa181b-ATL\n",
            "\n",
            "\n"
          ],
          "name": "stdout"
        }
      ]
    },
    {
      "cell_type": "markdown",
      "metadata": {
        "id": "_qwpsJKreFSj"
      },
      "source": [
        "Awesome! A 200 status code means everything is g2g. For information about what the different status codes retured from HTTP Requests, [look here.](https://developer.mozilla.org/en-US/docs/Web/HTTP/Status) If you received anything other than a 200 Status code, try reloading the Notebook, ensuring you didn't accidentally make any changes."
      ]
    },
    {
      "cell_type": "markdown",
      "metadata": {
        "id": "1dr6bRGJfK5N"
      },
      "source": [
        "## JSON: The Language of APIs\r\n",
        "\r\n",
        "JSON (**J**ava**S**cript **O**bject **N**otation) is a messaging standard that was formalized in 2014 based on specifications of the JavaScript Standard introduced in 1999. In it's simplest form, it is an object containing a collection of `key` and `value` pairs. Values can be any primitive data types such as `boolean`, `integer`, `float`, or `string` but can also be nested `objects` or `arrays`.\r\n",
        "Almost every language provides an interface to be able to encode or decode JSON objects into a native format.\r\n",
        "\r\n",
        "In the case of python, we can decode JSON objects to `dictionaries`, and vice versa. See the example below:"
      ]
    },
    {
      "cell_type": "code",
      "metadata": {
        "id": "tB53-AfEg1sW",
        "outputId": "abd8091a-f2aa-4c6d-fec4-5fb0df03db70",
        "colab": {
          "base_uri": "https://localhost:8080/"
        }
      },
      "source": [
        "import json\r\n",
        "\r\n",
        "#Given the following Dictionary\r\n",
        "values = dict([('first_name', 'Homer'), ('last_name', 'Simpson'), ('city', 'Springfield'), ('occupation', 'Nuclear Technician')])\r\n",
        "\r\n",
        "#We can convert a dictionary to using using the json.dumps() method\r\n",
        "jsonObject = json.dumps(values)\r\n",
        "print(jsonObject, '\\n')\r\n",
        "\r\n",
        "#Alternatively, given JSON, we can convert to a Dictionary object using the json.loads() method\r\n",
        "dictionary = json.loads(jsonObject)\r\n",
        "print(dictionary['first_name'], dictionary['last_name'])"
      ],
      "execution_count": 4,
      "outputs": [
        {
          "output_type": "stream",
          "text": [
            "{\"first_name\": \"Homer\", \"last_name\": \"Simpson\", \"city\": \"Springfield\", \"occupation\": \"Nuclear Technician\"} \n",
            "\n",
            "Homer Simpson\n"
          ],
          "name": "stdout"
        }
      ]
    },
    {
      "cell_type": "markdown",
      "metadata": {
        "id": "ceieILkVovku"
      },
      "source": [
        "Taking a look at the Documentation for the [fake API](https://jsonplaceholder.typicode.com/), it returns JSON objects for requests it receives. Let's try and combine what we've learned to get the Email Address of the User with ID 10."
      ]
    },
    {
      "cell_type": "code",
      "metadata": {
        "id": "F--Bluq4pY4j"
      },
      "source": [
        "from http import client\r\n",
        "import json\r\n",
        "\r\n",
        "# Per the documentation, we get a connection object by calling the HTTPConnection() or HTTPSConnection() methods,\r\n",
        "# with parameters for the address and port.\r\n",
        "cxn = client.HTTPSConnection('jsonplaceholder.typicode.com', 443)\r\n",
        "\r\n",
        "# In order to make our request, we will need to modify the method from our previous example to a GET request for the resource at '/users/10'.\r\n",
        "# When you're ready, uncomment the method call below.\r\n",
        "cxn.request('GET', '/users/10')\r\n",
        "\r\n",
        "response = cxn.getresponse()\r\n",
        "if response.status is 200:\r\n",
        "  print('Response:',response.status, '🎉🎉🎉', '\\n')\r\n",
        "else:\r\n",
        "  print('Uh Oh, got',response.status)\r\n",
        "\r\n",
        "#If everything goes well, this should contain the JSON response from the API.\r\n",
        "jsonData = response.read().decode()\r\n",
        "#print(jsonData)\r\n",
        "\r\n",
        "#Next, go ahead and convert the jsonData string to a Dictionary, and print the email address.\r\n",
        "#Look at the example above for some pointers on how to accomplish that.\r\n",
        "\r\n",
        "dictionary = json.loads(jsonData)\r\n",
        "print(\"User 10's email is: \", dictionary['email'])"
      ],
      "execution_count": null,
      "outputs": []
    },
    {
      "cell_type": "markdown",
      "metadata": {
        "id": "pPObsy_av_Ic"
      },
      "source": [
        "## Lab Submission\r\n",
        "\r\n",
        "For your Lab Submission, you will create a script that accomplishes the following goals:\r\n",
        "\r\n",
        "1.   Review the Documentation for the [PokeApi](https://pokeapi.co/)\r\n",
        "2.   Make a GET request to the correct endpoint to get information about any Pokemon.\r\n",
        "3.   Convert that Data from a JSON object to a Dictionary\r\n",
        "4.   Using that Dictonary, craft a string that will provide the `name`, `weight` and list of names of `types`\r\n",
        "5. Make an HTTP POST request using the Provided PasteBin API key to upload your crafted string. If successful, you will receive the URL of the PasteBin Document in the response of the POST request.\r\n",
        "6. That Link, and the code within this Notebook, will be your submission.\r\n",
        "\r\n"
      ]
    },
    {
      "cell_type": "code",
      "metadata": {
        "id": "lZswmCEKyHj8",
        "outputId": "2fec9325-0ff9-4486-a99c-fd8906ffc3c3",
        "colab": {
          "base_uri": "https://localhost:8080/"
        }
      },
      "source": [
        "from http import client\r\n",
        "import urllib\r\n",
        "import json\r\n",
        "\r\n",
        "#Connecting to the two APIs\r\n",
        "pokeApi = client.HTTPSConnection('pokeapi.co', 443)\r\n",
        "pasteBin = client.HTTPSConnection('pastebin.com', 443)\r\n",
        "\r\n",
        "#Requesting the data\r\n",
        "pokeApi.request('GET', '/api/v2/pokemon/mew')\r\n",
        "\r\n",
        "#Response from the pokeApi\r\n",
        "pokeResponse = pokeApi.getresponse()\r\n",
        "\r\n",
        "#Creating a dictionary\r\n",
        "jsonData = pokeResponse.read().decode()\r\n",
        "mewStats = json.loads(jsonData)\r\n",
        "\r\n",
        "#Checking response status:\r\n",
        "if response.status is 200:\r\n",
        "  print('Response:',pokeResponse.status, '🎉🎉🎉', '\\n')\r\n",
        "else:\r\n",
        "  print('Uh Oh, got',pokeResponse.status)\r\n",
        "\r\n",
        "#Creating an array to seperate out the relevent data, the type 'psychic' in this case\r\n",
        "pokiTypes = {}\r\n",
        "pokiTypes = mewStats['types']\r\n",
        "pokiTypes = str(pokiTypes).split('\\'')\r\n",
        "\r\n",
        "#Creating print statement for PasteBin\r\n",
        "mewOutput = str.capitalize(mewStats['name']) + \" is a \" + str(pokiTypes[7]) + \" type pokemon who's weight is \" + str(mewStats['weight']) + \"kg (According to this index. It's actually 4kg, so they've made a typo).\"\r\n",
        "print (mewOutput)\r\n",
        "\r\n",
        "#The Pastebin API key you will use\r\n",
        "pasteBinApi = 'f4R0OTFza_qTQ1NZJYLjoCeLqoHQux4X'\r\n",
        "\r\n",
        "#Refer to the documentation at https://pastebin.com/doc_api for instructions on these parameters\r\n",
        "requestParams = {\r\n",
        "    'api_dev_key': pasteBinApi,\r\n",
        "    'api_option': 'paste',\r\n",
        "    'api_paste_code': mewOutput,\r\n",
        "    'api_paste_name':\"Mew's Stats\",\r\n",
        "}\r\n",
        "\r\n",
        "#This additional Method call will convert the Dictionary to a URL-Encoded string for PasteBin,\r\n",
        "#Include this string as the body of your call to the HTTPConnection.request() method for your pasteBin connection.\r\n",
        "requestBody = urllib.parse.urlencode(requestParams)\r\n",
        "\r\n",
        "#Since we are URLEncoding the request Body, we need to tell Pastebin that it can expect x-www-form-urlencoded content, by adding this information to the request header\r\n",
        "pasteBinHeaders = {'Content-Type': 'application/x-www-form-urlencoded'}\r\n",
        "\r\n",
        "pasteBin.request('POST', '/api/api_post.php', requestBody, pasteBinHeaders)\r\n",
        "\r\n",
        "#Response from PasteBin\r\n",
        "responsePasteBin = pasteBin.getresponse()\r\n",
        "\r\n",
        "#Printing URL from PasteBin\r\n",
        "URL = responsePasteBin.read().decode()\r\n",
        "print(\"\\nThe PasteBin URL is: \", URL)"
      ],
      "execution_count": 20,
      "outputs": [
        {
          "output_type": "stream",
          "text": [
            "Response: 200 🎉🎉🎉 \n",
            "\n",
            "Mew is a psychic type pokemon who's weight is 40kg (According to this index. It's actually 4kg, so they've made a typo).\n",
            "\n",
            "The PasteBin URL is:  https://pastebin.com/SFGQkveS\n"
          ],
          "name": "stdout"
        }
      ]
    }
  ]
}