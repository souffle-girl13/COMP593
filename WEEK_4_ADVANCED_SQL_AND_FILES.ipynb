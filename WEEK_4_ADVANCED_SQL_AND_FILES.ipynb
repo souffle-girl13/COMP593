{
  "nbformat": 4,
  "nbformat_minor": 0,
  "metadata": {
    "colab": {
      "name": "WEEK 4 ADVANCED SQL AND FILES",
      "provenance": [],
      "toc_visible": true,
      "include_colab_link": true
    },
    "kernelspec": {
      "name": "python3",
      "display_name": "Python 3"
    }
  },
  "cells": [
    {
      "cell_type": "markdown",
      "metadata": {
        "id": "view-in-github",
        "colab_type": "text"
      },
      "source": [
        "<a href=\"https://colab.research.google.com/github/souffle-girl13/COMP593/blob/Lab-4/WEEK_4_ADVANCED_SQL_AND_FILES.ipynb\" target=\"_parent\"><img src=\"https://colab.research.google.com/assets/colab-badge.svg\" alt=\"Open In Colab\"/></a>"
      ]
    },
    {
      "cell_type": "markdown",
      "metadata": {
        "id": "jtmWSsdu7sGV"
      },
      "source": [
        "# Lab 4 - Advanced SQL / Writing Files\r\n",
        "\r\n",
        "In this week's lab, we are going to expand our Really Simple Social Network by adding another table that will record connections between people! Because after all, what good is a social network if you can't ... be social?\r\n",
        "\r\n",
        "Afterwards, we will be in a good position to run a report on the data, and then we can sell it to marketers for a massive profit! Isn't it great how few people read the terms of service? `/s`"
      ]
    },
    {
      "cell_type": "markdown",
      "metadata": {
        "id": "u_jgOruj82au"
      },
      "source": [
        "## Importing our database\r\n",
        "Since we are using a new colab notebook, we will need to reimport our database. Check your D2L Submission if you didn't keep a copy, you should be able to redownload it there. Run the below code block and the file upload picker will appear, after uploading your Database file, check that it appears in the `Files` tab of colab.\r\n",
        "\r\n",
        "Remember that you may need to update the listings before it will appear."
      ]
    },
    {
      "cell_type": "code",
      "metadata": {
        "id": "8IIOmhjf7GoX"
      },
      "source": [
        "from google.colab import files\r\n",
        "uploaded = files.upload()\r\n"
      ],
      "execution_count": null,
      "outputs": []
    },
    {
      "cell_type": "markdown",
      "metadata": {
        "id": "Niw3IKvx-034"
      },
      "source": [
        "## Creating our relationship table\r\n",
        "\r\n",
        "In the code block below, we will be creating a new table in our database for `relationships` with the following parameters:\r\n",
        "\r\n",
        "\r\n",
        "1.   A primary key column called `id` with the `INTEGER` datatype that is `NOT NULL`\r\n",
        "2.   A foreign key column called `user_id` that links to the `id` column of the `people` table with the `INTEGER` datatype that is `NOT NULL`\r\n",
        "3.   Another foreign key column called `friend_id` that also links to the `id` column of the `people` table with the `INTEGER` datatype that is `NOT NULL`\r\n",
        "4.   A `date_created` table with the `DATE` datatype that is `NOT NULL`\r\n",
        "\r\n",
        "The Below codeblock will get you started:\r\n",
        "\r\n"
      ]
    },
    {
      "cell_type": "code",
      "metadata": {
        "id": "P2btKpXsANBX"
      },
      "source": [
        "import sqlite3\r\n",
        "\r\n",
        "#Retreive the Connection object, rename the file to match your uploaded DB if necessary.\r\n",
        "myConnection = sqlite3.connect('social_network.db')\r\n",
        "\r\n",
        "#Once we have a Connection object, we can generate a Cursor object, and use that to run our SQL Queries\r\n",
        "myCursor = myConnection.cursor()\r\n",
        "\r\n",
        "#The Primary Key column has been provided for you,\r\n",
        "#Replace '#!...' with the remaining column names, datatypes, and foreign key declarations.\r\n",
        "#Use the Lecture notes and the previous lab if you are unsure.\r\n",
        "createRelationshipsTable = \"\"\"CREATE TABLE IF NOT EXISTS relationships (\r\n",
        "                          id integer PRIMARY KEY NOT NULL,\r\n",
        "                          #!...\r\n",
        "                        );\"\"\"\r\n",
        "\r\n",
        "#Once again, we will execute the query, persist the changes, and close our connection.\r\n",
        "myCursor.execute(createRelationshipsTable)\r\n",
        "myConnection.commit()\r\n",
        "myConnection.close()"
      ],
      "execution_count": null,
      "outputs": []
    },
    {
      "cell_type": "markdown",
      "metadata": {
        "id": "AQ4tDbnaBPpD"
      },
      "source": [
        "## Populating Relationship Data\r\n",
        "\r\n",
        "We're not going to be picky about who knows who - so for the purposes of this lab, we're going to use our own version of an AI matchmaker, the `randrange()` method.\r\n",
        "\r\n",
        "Complete the below codeblock, inserting 1000 new rows into the relationships table.\r\n",
        "Use a random number between `1 - 1000` for the `user_id` and `friend_id` columns. This will link up to the `id` column of the `people` table and effectivly simulate a random network of relationships.\r\n",
        "\r\n",
        "The below code block is purposely sparse, as you should be able to use the patterns you've identified in the previous lab to complete this task."
      ]
    },
    {
      "cell_type": "code",
      "metadata": {
        "id": "XL7ho2tJCTBG"
      },
      "source": [
        "import sqlite3\r\n",
        "from datetime import datetime #For generating dates and times\r\n",
        "from random import randrange #For generating random numbers within a range\r\n",
        "\r\n",
        "#Retreive the Connection object, rename the file to match your uploaded DB if necessary.\r\n",
        "myConnection = sqlite3.connect('social_network.db')\r\n",
        "\r\n",
        "#Once we have a Connection object, we can generate a Cursor object, and use that to run our SQL Queries\r\n",
        "myCursor = myConnection.cursor()\r\n",
        "\r\n",
        "#Complete the below query\r\n",
        "query =  \"\"\"INSERT INTO relationships\r\n",
        "            #!...\r\n",
        "         \"\"\"\r\n",
        "\r\n",
        "for _ in range(1000):\r\n",
        "  #Populate the arguments that will be used in the query\r\n",
        "  args = ( )\r\n",
        "  #Execute the query\r\n",
        "  myCursor.execute(query, args)\r\n",
        "\r\n",
        "#Commit your changes and close the connection.\r\n",
        "myConnection.commit()\r\n",
        "myConnection.close()\r\n"
      ],
      "execution_count": null,
      "outputs": []
    },
    {
      "cell_type": "markdown",
      "metadata": {
        "id": "qqZLm-E0E2AV"
      },
      "source": [
        "## Building our Report\r\n",
        "\r\n",
        "Now that our AI Matchmaker has generated our network of relationships, a marketing firm is offering us boatloads of cash for information about the amount of friends the users of our social network have.\r\n",
        "\r\n",
        "The request is to return the name of each user, and the total number of relationships they have made.\r\n",
        "\r\n",
        "If this was explained in awkward pseudo code, it might go something like this:\r\n",
        "```\r\n",
        "SELECT all relationships\r\n",
        "JOIN them to the people they belong to\r\n",
        "GROUP the results by the person's ID\r\n",
        "return the person's name and COUNT of their relationships\r\n",
        "```\r\n",
        "\r\n",
        "After you have collected the data, you will need to write it to a `.txt` file. \r\n",
        "\r\n",
        "**Your submission will include the report `.txt` file, the copy of your updated `social_network.db` file, and a link to the colab notebook.**\r\n",
        "\r\n",
        "Look at the aggregate functions from Week 3 and the Join examples from Week 4. There are a few different ways that you can structure a query to reach the correct answer.\r\n",
        "\r\n",
        "**At a minimum, you will need to use a `LEFT JOIN` statement, a `GROUP BY` statement, and a `COUNT()` aggregate function.**\r\n",
        "\r\n",
        "The below code block will get you started:"
      ]
    },
    {
      "cell_type": "code",
      "metadata": {
        "id": "0OvhhCMKGkU3"
      },
      "source": [
        "import sqlite3\r\n",
        "\r\n",
        "#Retreive the Connection object, rename the file to match your uploaded DB if necessary.\r\n",
        "myConnection = sqlite3.connect('social_network.db')\r\n",
        "\r\n",
        "#Once we have a Connection object, we can generate a Cursor object, and use that to run our SQL Queries\r\n",
        "myCursor = myConnection.cursor()\r\n",
        "\r\n",
        "#Uncomment the below line after you have determined what the correct mode will be for your file pointer.\r\n",
        "#fp = open('report.txt', mode='')\r\n",
        "\r\n",
        "#Complete the below query\r\n",
        "query =  \"\"\"SELECT\r\n",
        "            !#...\r\n",
        "         \"\"\"\r\n",
        "\r\n",
        "myCursor.execute(query)\r\n",
        "results = myCursor.fetchall()\r\n",
        "\r\n",
        "for result in results:\r\n",
        "  #You will want to write the results to the file pointer here.\r\n",
        "  #Use the newline character \\n to create a line break in each write() statement.\r\n",
        "  #Use print() statements as sanity checks if you are unsure of the integrity of your data.\r\n",
        "\r\n",
        "#Don't forget to close the file pointer after you have finished!"
      ],
      "execution_count": null,
      "outputs": []
    },
    {
      "cell_type": "markdown",
      "metadata": {
        "id": "uhxqLV4TNnjA"
      },
      "source": [
        "### Challenge: Write a CSV file\r\n",
        "\r\n",
        "**This challenge isn't for extra marks, it's an opportunity for you to engage in some self guided discovery, only if you feel like it, and only if you have time.**\r\n",
        "\r\n",
        "If you want to challenge yourself, alter the report so that it conforms with the `.csv` file type. There are a number of ways to do this, you can use the `Pandas` module, the `csv` module, or manually."
      ]
    }
  ]
}